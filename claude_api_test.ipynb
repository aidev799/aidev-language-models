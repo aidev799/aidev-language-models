{
 "cells": [
  {
   "cell_type": "code",
   "execution_count": null,
   "metadata": {},
   "outputs": [],
   "source": [
    "import os\n",
    "import sys\n",
    "from anthropic import Anthropic\n",
    "from dotenv import load_dotenv\n",
    "\n",
    "# Load environment variables from .env file\n",
    "load_dotenv('../Keys/Claude_api_key.env')\n",
    "\n",
    "# Set API Key\n",
    "api_key = os.environ.get(\"CLAUDE_API_KEY\")\n",
    "\n",
    "if not api_key:\n",
    "    print(\"Error: CLAUDE_API_KEY not found in .env file\")\n",
    "    print(\"Make sure your .env file contains: CLAUDE_API_KEY=your_api_key_here\")\n",
    "else:\n",
    "    client = Anthropic(api_key=api_key)\n",
    "    print(\"Claude API client initialized successfully\")\n"
   ]
  },
  {
   "cell_type": "code",
   "execution_count": null,
   "metadata": {},
   "outputs": [],
   "source": [
    "# Test the API with a simple question\n",
    "def ask_claude(question):\n",
    "    try:\n",
    "        message = client.messages.create(\n",
    "            model=\"claude-3-haiku-20240307\",\n",
    "            max_tokens=256,\n",
    "            messages=[\n",
    "                {\"role\": \"user\", \"content\": question}\n",
    "            ]\n",
    "        )\n",
    "        return message.content[0].text\n",
    "    except Exception as e:\n",
    "        return f\"Error: {str(e)}\"\n",
    "\n",
    "# Test it\n",
    "if 'client' in locals():\n",
    "    response = ask_claude(\"Hello, how are you?\")\n",
    "    print(\"Claude's response:\", response)\n",
    "else:\n",
    "    print(\"Client not initialized. Please check your API key.\")\n"
   ]
  },
  {
   "cell_type": "code",
   "execution_count": 5,
   "metadata": {},
   "outputs": [],
   "source": [
    "def interactive_questions():\n",
    "    print(\"Welcome to the Claude API interactive questions!\")\n",
    "    while True:\n",
    "        question = input(\"Enter your question (or 'exit' to quit): \")\n",
    "        if question.lower() == \"exit\":\n",
    "            print(\"Thank you for using the Claude API interactive questions!\")\n",
    "            break     \n",
    "        if not question:\n",
    "            print(\"Please enter a valid question.\")\n",
    "            continue \n",
    "        answer = ask_claude(question)\n",
    "        print(f\"\\nClaude: {answer}\\n\")\n",
    "\n"
   ]
  },
  {
   "cell_type": "code",
   "execution_count": null,
   "metadata": {},
   "outputs": [],
   "source": [
    "def main():\n",
    "    print(\"CLaude API Connection Script\")\n",
    "    print(\"=\"*30)\n",
    "    print()\n",
    "\n",
    "    interactive_questions()\n",
    "\n",
    "if __name__ == \"__main__\":\n",
    "    main()\n"
   ]
  }
 ],
 "metadata": {
  "kernelspec": {
   "display_name": "Python 3",
   "language": "python",
   "name": "python3"
  },
  "language_info": {
   "codemirror_mode": {
    "name": "ipython",
    "version": 3
   },
   "file_extension": ".py",
   "mimetype": "text/x-python",
   "name": "python",
   "nbconvert_exporter": "python",
   "pygments_lexer": "ipython3",
   "version": "3.9.6"
  }
 },
 "nbformat": 4,
 "nbformat_minor": 2
}
